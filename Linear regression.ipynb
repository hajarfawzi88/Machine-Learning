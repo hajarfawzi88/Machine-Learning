{
  "nbformat": 4,
  "nbformat_minor": 0,
  "metadata": {
    "colab": {
      "provenance": []
    },
    "kernelspec": {
      "name": "python3",
      "display_name": "Python 3"
    },
    "language_info": {
      "name": "python"
    }
  },
  "cells": [
    {
      "cell_type": "markdown",
      "source": [
        "\n",
        "#1-Generate a sample by equation\n",
        "\n",
        "\n",
        "> *y=w1X1+w2X2+....+b*\n",
        "\n",
        "\n",
        "\n",
        "\n",
        "\n",
        "#2-Generate random number for Xs\n",
        "\n",
        "#3-Apply Linear Regression\n",
        "\n",
        "#4-Proof the same equatio will return using generated sample datasets\n",
        "\n"
      ],
      "metadata": {
        "id": "2JdegCfYrwFQ"
      }
    },
    {
      "cell_type": "code",
      "source": [
        "import numpy as np\n",
        "import pandas as pd\n",
        "import matplotlib.pyplot as plt\n",
        "from scipy.stats import norm\n",
        "import seaborn as sns\n",
        "from sklearn.preprocessing import LabelEncoder\n",
        "import pandas as pd\n",
        "from sklearn.linear_model import LinearRegression\n",
        "from sklearn.model_selection import train_test_split\n",
        "from sklearn import datasets\n",
        "import matplotlib.pyplot as plt\n",
        "from random import sample\n",
        "from numpy.linalg import inv, det"
      ],
      "metadata": {
        "id": "70Q8ujdJrjLJ"
      },
      "execution_count": null,
      "outputs": []
    },
    {
      "cell_type": "code",
      "source": [
        "#assumptions for W\n",
        "W1=4\n",
        "W2=8\n",
        "W3=15\n",
        "b=1"
      ],
      "metadata": {
        "id": "3qCcpbhKtugj"
      },
      "execution_count": null,
      "outputs": []
    },
    {
      "cell_type": "code",
      "source": [
        "#generate random X\n",
        "X1 = np.random.randint(0, 100, size = 100)#generate random array from 0 to 100\n",
        "X1_t=np.transpose([X1])\n",
        "X2 = np.random.randint(0, 100, size = 100)#generate random array from 0 to 100\n",
        "X2_t=np.transpose([X2])\n",
        "X3= np.random.randint(0, 100, size = 2)#generate random array from 0 to 100\n",
        "X3_t=np.transpose([X3])\n",
        "print(X1_t)\n",
        "print(X2_t)\n",
        "print(X3_t)"
      ],
      "metadata": {
        "colab": {
          "base_uri": "https://localhost:8080/"
        },
        "id": "6oGjmBxBr7OZ",
        "outputId": "3ee49da5-2320-4c8e-88f1-61ed88da16dd"
      },
      "execution_count": null,
      "outputs": [
        {
          "output_type": "stream",
          "name": "stdout",
          "text": [
            "[[ 9]\n",
            " [39]\n",
            " [60]\n",
            " [13]\n",
            " [83]\n",
            " [94]\n",
            " [55]\n",
            " [33]\n",
            " [84]\n",
            " [45]\n",
            " [55]\n",
            " [61]\n",
            " [55]\n",
            " [50]\n",
            " [60]\n",
            " [53]\n",
            " [81]\n",
            " [38]\n",
            " [86]\n",
            " [47]\n",
            " [85]\n",
            " [27]\n",
            " [ 3]\n",
            " [46]\n",
            " [57]\n",
            " [61]\n",
            " [92]\n",
            " [24]\n",
            " [87]\n",
            " [70]\n",
            " [10]\n",
            " [ 0]\n",
            " [71]\n",
            " [19]\n",
            " [85]\n",
            " [21]\n",
            " [54]\n",
            " [32]\n",
            " [95]\n",
            " [89]\n",
            " [39]\n",
            " [90]\n",
            " [29]\n",
            " [22]\n",
            " [35]\n",
            " [63]\n",
            " [79]\n",
            " [37]\n",
            " [28]\n",
            " [52]\n",
            " [ 9]\n",
            " [92]\n",
            " [56]\n",
            " [48]\n",
            " [62]\n",
            " [43]\n",
            " [65]\n",
            " [18]\n",
            " [38]\n",
            " [36]\n",
            " [68]\n",
            " [95]\n",
            " [84]\n",
            " [23]\n",
            " [25]\n",
            " [85]\n",
            " [44]\n",
            " [46]\n",
            " [20]\n",
            " [15]\n",
            " [15]\n",
            " [29]\n",
            " [80]\n",
            " [59]\n",
            " [41]\n",
            " [66]\n",
            " [71]\n",
            " [ 5]\n",
            " [29]\n",
            " [66]\n",
            " [17]\n",
            " [ 2]\n",
            " [ 0]\n",
            " [42]\n",
            " [39]\n",
            " [25]\n",
            " [94]\n",
            " [74]\n",
            " [32]\n",
            " [30]\n",
            " [47]\n",
            " [39]\n",
            " [91]\n",
            " [41]\n",
            " [30]\n",
            " [54]\n",
            " [65]\n",
            " [40]\n",
            " [59]\n",
            " [97]]\n",
            "[[ 4]\n",
            " [55]\n",
            " [26]\n",
            " [44]\n",
            " [52]\n",
            " [82]\n",
            " [15]\n",
            " [14]\n",
            " [93]\n",
            " [70]\n",
            " [75]\n",
            " [77]\n",
            " [28]\n",
            " [46]\n",
            " [93]\n",
            " [90]\n",
            " [89]\n",
            " [21]\n",
            " [90]\n",
            " [54]\n",
            " [72]\n",
            " [29]\n",
            " [84]\n",
            " [98]\n",
            " [81]\n",
            " [62]\n",
            " [ 6]\n",
            " [39]\n",
            " [92]\n",
            " [75]\n",
            " [16]\n",
            " [28]\n",
            " [96]\n",
            " [21]\n",
            " [69]\n",
            " [22]\n",
            " [64]\n",
            " [71]\n",
            " [60]\n",
            " [48]\n",
            " [60]\n",
            " [95]\n",
            " [27]\n",
            " [ 6]\n",
            " [69]\n",
            " [ 2]\n",
            " [62]\n",
            " [48]\n",
            " [89]\n",
            " [88]\n",
            " [94]\n",
            " [21]\n",
            " [26]\n",
            " [71]\n",
            " [11]\n",
            " [16]\n",
            " [47]\n",
            " [87]\n",
            " [25]\n",
            " [89]\n",
            " [26]\n",
            " [26]\n",
            " [77]\n",
            " [76]\n",
            " [20]\n",
            " [94]\n",
            " [40]\n",
            " [ 5]\n",
            " [37]\n",
            " [13]\n",
            " [15]\n",
            " [50]\n",
            " [95]\n",
            " [82]\n",
            " [40]\n",
            " [23]\n",
            " [66]\n",
            " [64]\n",
            " [ 9]\n",
            " [93]\n",
            " [64]\n",
            " [65]\n",
            " [88]\n",
            " [46]\n",
            " [31]\n",
            " [ 1]\n",
            " [89]\n",
            " [80]\n",
            " [23]\n",
            " [42]\n",
            " [78]\n",
            " [10]\n",
            " [38]\n",
            " [72]\n",
            " [33]\n",
            " [30]\n",
            " [33]\n",
            " [75]\n",
            " [46]\n",
            " [29]]\n",
            "[[26]\n",
            " [28]]\n"
          ]
        }
      ]
    },
    {
      "cell_type": "code",
      "source": [],
      "metadata": {
        "id": "qHO2a966tut4"
      },
      "execution_count": null,
      "outputs": []
    },
    {
      "cell_type": "code",
      "source": [
        "#for 2d\n",
        "Y=W1*X1 + W2*X2+b\n",
        "num_of_samples=100\n",
        "B = np.ones(num_of_samples, dtype = int)\n",
        "B_t=np.transpose([B])\n",
        "z=np.array([X1,X2])\n",
        "X=np.hstack((B_t,np.transpose(z)))\n",
        "X_t=np.transpose(X)\n",
        "o=np.dot(X_t,X)\n",
        "inverse=np.linalg.inv(o)\n",
        "s = np.dot(inverse,X_t)\n",
        "WN=np.dot(s,Y)\n",
        "WN"
      ],
      "metadata": {
        "colab": {
          "base_uri": "https://localhost:8080/"
        },
        "id": "LA43fhpb1bLr",
        "outputId": "d238e6df-3e8d-4de9-bc89-79e68f6fc319"
      },
      "execution_count": null,
      "outputs": [
        {
          "output_type": "execute_result",
          "data": {
            "text/plain": [
              "array([1., 4., 8.])"
            ]
          },
          "metadata": {},
          "execution_count": 50
        }
      ]
    },
    {
      "cell_type": "code",
      "source": [
        "#for 1D\n",
        "X11 = np.random.randint(0, 100)\n",
        "Ye=(W1*np.transpose(X11))+b\n",
        "W1*np.transpose(X11)\n",
        "W_d=pow((X11*X11),-1)*np.transpose(X11)*Ye\n",
        "W_d"
      ],
      "metadata": {
        "colab": {
          "base_uri": "https://localhost:8080/"
        },
        "id": "4wq9_y-Rcdca",
        "outputId": "f18ddbd8-1fbb-4a60-f7c5-76e9c8ac739e"
      },
      "execution_count": null,
      "outputs": [
        {
          "output_type": "execute_result",
          "data": {
            "text/plain": [
              "4.047619047619048"
            ]
          },
          "metadata": {},
          "execution_count": 292
        }
      ]
    },
    {
      "cell_type": "markdown",
      "source": [
        "##Refrences\n",
        "\n",
        "https://machinelearningmastery.com/linear-regression-for-machine-learning/\n",
        "\n",
        "https://towardsdatascience.com/linear-regression-derivation-d362ea3884c2\n",
        "\n"
      ],
      "metadata": {
        "id": "OboYZYGvv6UZ"
      }
    }
  ]
}