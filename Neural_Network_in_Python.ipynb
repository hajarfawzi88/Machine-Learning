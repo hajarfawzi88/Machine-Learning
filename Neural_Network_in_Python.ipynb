{
  "cells": [
    {
      "cell_type": "markdown",
      "id": "060a6423",
      "metadata": {
        "id": "060a6423"
      },
      "source": [
        "## Project #1\n",
        "## Create a Neural Network In Python"
      ]
    },
    {
      "cell_type": "markdown",
      "id": "44262c28",
      "metadata": {
        "id": "44262c28"
      },
      "source": [
        "bold text![image-3.png](attachment:image-3.png)"
      ]
    },
    {
      "cell_type": "markdown",
      "id": "a4fb3062",
      "metadata": {
        "id": "a4fb3062"
      },
      "source": [
        "![image.png](attachment:image.png)"
      ]
    },
    {
      "cell_type": "code",
      "execution_count": null,
      "id": "9e2d06c1",
      "metadata": {
        "id": "9e2d06c1"
      },
      "outputs": [],
      "source": [
        "import numpy as np\n",
        "import matplotlib.pyplot as plt\n",
        "from sklearn.model_selection import train_test_split\n",
        "from sklearn.metrics import mean_squared_error as mse\n",
        "import pandas as pd"
      ]
    },
    {
      "cell_type": "code",
      "execution_count": null,
      "id": "7461c2e1",
      "metadata": {
        "id": "7461c2e1"
      },
      "outputs": [],
      "source": [
        "###segmoid function ACTIVATION FUNCTION :\n",
        "def sigmoid(Z):\n",
        "  return 1/(1+np.power(np.e,-Z))\n",
        "#sigmoid(4)"
      ]
    },
    {
      "cell_type": "code",
      "execution_count": null,
      "id": "fe57ea2e",
      "metadata": {
        "id": "fe57ea2e"
      },
      "outputs": [],
      "source": [
        "#create w and b according to the layer size:\n",
        "#assume size=4 #with the last layer (output layer)\n",
        "#3 w and 3 b\n",
        "#returns w and b\n",
        "#using dictionaries to get the variables with their names\n",
        "def generate_W_b(Size_of_each_layer):\n",
        "    print(\"layers\",Size_of_each_layer)\n",
        "    W = {}\n",
        "    B={}\n",
        "    for i in range(1, len(Size_of_each_layer)):\n",
        "      rows=Size_of_each_layer[i]\n",
        "      columns_of_w= Size_of_each_layer[i-1]\n",
        "      W['w'+str(i)] = np.random.randn(rows,columns_of_w);\n",
        "      B['b'+str(i)] = np.random.randn(rows,1);\n",
        "    return W,B\n",
        "#W,B=generate_W_b([2,3,4,2])\n",
        "#print(W);\n",
        "#print(B);"
      ]
    },
    {
      "cell_type": "code",
      "source": [
        "W,B=generate_W_b([2,3,3,2]);\n",
        "print(W);\n",
        "print(B);"
      ],
      "metadata": {
        "colab": {
          "base_uri": "https://localhost:8080/"
        },
        "id": "66VxwRXM8jAB",
        "outputId": "39100c36-a4df-47c1-a4cc-5398c70efa5e"
      },
      "id": "66VxwRXM8jAB",
      "execution_count": null,
      "outputs": [
        {
          "output_type": "stream",
          "name": "stdout",
          "text": [
            "layers [2, 3, 3, 2]\n",
            "{'w1': array([[ 2.44040919,  0.08086548],\n",
            "       [ 0.84830872, -1.33039465],\n",
            "       [-0.78521966, -0.09542712]]), 'w2': array([[ 0.48523988,  0.31070101, -1.20272754],\n",
            "       [ 0.14046951,  0.43844306, -1.01194591],\n",
            "       [ 0.03154294,  0.96890383, -1.9001255 ]]), 'w3': array([[-0.46712658, -1.84339976, -0.03871608],\n",
            "       [-0.81045923,  1.47177112, -0.37637811]])}\n",
            "{'b1': array([[-0.12242263],\n",
            "       [-0.11157714],\n",
            "       [ 0.52652877]]), 'b2': array([[0.76164652],\n",
            "       [1.01984524],\n",
            "       [0.22633484]]), 'b3': array([[-1.37998559],\n",
            "       [ 1.43881677]])}\n"
          ]
        }
      ]
    },
    {
      "cell_type": "markdown",
      "source": [
        "![image.png](data:image/png;base64,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)"
      ],
      "metadata": {
        "id": "lypf-9GPBmOJ"
      },
      "id": "lypf-9GPBmOJ"
    },
    {
      "cell_type": "code",
      "source": [
        "#forward\n",
        "#returns:sigmoid(wx+b)\n",
        "# first layer after input : sigmoid(wx+b)\n",
        "# second layer: w*[sigmoid(wx+b)of i-1 ]+b\n",
        "#last layer: sigmoid=Net\n",
        "def Forward(X_train,W,B,Size_of_each_layer):\n",
        "\n",
        "\n",
        "\n",
        "    Net={}    #WX+B\n",
        "    O={}      #SIGMOID\n",
        "    num_of_layers=len(Size_of_each_layer)-1\n",
        "    print(\"number of layers\",num_of_layers)\n",
        "\n",
        "\n",
        "\n",
        "    for i in range(1,len(Size_of_each_layer)):\n",
        "      if i==1:  #in first layer\n",
        "        Net['Net'+str(i)] = np.dot(W['w'+str(i)],X_train) + B['b'+str(i)];\n",
        "\n",
        "        O['O'+str(i)] = sigmoid(Net['Net'+str(i)]);\n",
        "      else: #in middle\n",
        "        Net['Net'+str(i)] = np.dot(W['w'+str(i)], O['O'+str(i-1)]) + B['b'+str(i)];\n",
        "\n",
        "        if i != num_of_layers:  #in middle\n",
        "           O['O'+str(i)] = sigmoid(Net['Net'+str(i)]);\n",
        "        else:\n",
        "           O['O'+str(i)] = Net['Net'+str(i)];\n",
        "    return Net,O\n",
        "\n",
        "W,B=generate_W_b([2,3,3,2]);\n",
        "print(W);\n",
        "print(B);\n",
        "X,Y=Forward([2,4],W,B,[2,3,3,2]);\n",
        "print(X);\n",
        "print(Y);\n",
        "################################NOT FINAL###################"
      ],
      "metadata": {
        "colab": {
          "base_uri": "https://localhost:8080/"
        },
        "id": "0BK9WIvy3bVP",
        "outputId": "03bd8b35-4e99-4848-87b0-ebfe41a95b8f"
      },
      "id": "0BK9WIvy3bVP",
      "execution_count": null,
      "outputs": [
        {
          "output_type": "stream",
          "name": "stdout",
          "text": [
            "layers [2, 3, 3, 2]\n",
            "{'w1': array([[ 1.246049  ,  1.52694272],\n",
            "       [-1.08339141, -0.43885015],\n",
            "       [-1.23243673,  0.54537637]]), 'w2': array([[ 0.16390476, -0.0294064 ,  0.75234787],\n",
            "       [-0.51114875, -1.95828039,  0.01992738],\n",
            "       [ 0.09792787, -0.49873031, -1.30286902]]), 'w3': array([[ 0.38141504, -0.85788491, -0.27702225],\n",
            "       [ 0.68269827,  0.74287279, -1.05147522]])}\n",
            "{'b1': array([[-0.2961337 ],\n",
            "       [-1.2194188 ],\n",
            "       [ 1.27040335]]), 'b2': array([[-0.70572894],\n",
            "       [ 1.73535983],\n",
            "       [ 0.1592103 ]]), 'b3': array([[1.01842706],\n",
            "       [0.32719299]])}\n",
            "number of layers 3\n",
            "{'Net1': array([[ 8.30373518, -4.21831712, -0.57950167],\n",
            "       [ 7.38045007, -5.14160223, -1.50278678],\n",
            "       [ 9.87027223, -2.65178007,  0.98703538]]), 'Net2': array([[ 0.18105614, -0.65395749, -0.10414476],\n",
            "       [-0.71279656,  1.71786994,  1.2099233 ],\n",
            "       [-1.54410738,  0.07189923, -0.84554563]]), 'Net3': array([[0.89538494, 0.27805871, 0.45518811],\n",
            "       [0.75875537, 0.64596122, 0.90717775]])}\n",
            "{'O1': array([[0.99975247, 0.01450977, 0.35904727],\n",
            "       [0.99937707, 0.00581431, 0.18201025],\n",
            "       [0.99994831, 0.06587938, 0.72850196]]), 'O2': array([[0.54514079, 0.34209828, 0.47398732],\n",
            "       [0.3289812 , 0.84785427, 0.77028538],\n",
            "       [0.17593897, 0.51796707, 0.3003681 ]]), 'O3': array([[0.89538494, 0.27805871, 0.45518811],\n",
            "       [0.75875537, 0.64596122, 0.90717775]])}\n"
          ]
        }
      ]
    },
    {
      "cell_type": "code",
      "source": [
        "def cost(y_train,O):\n",
        " num_of_layers = len(O)//2\n",
        " y_pred=O['O'+str(num_of_layers)]  #at output layer only\n",
        " error=1/2*np.sum(np.square(y_pred-y_train))\n",
        " return error\n",
        "#######################################NOT SURE OF THE EQUATION"
      ],
      "metadata": {
        "id": "s-pD63M1v26o"
      },
      "id": "s-pD63M1v26o",
      "execution_count": null,
      "outputs": []
    },
    {
      "cell_type": "code",
      "source": [
        "#Backward\n",
        "#in last layer:\n",
        "#in middle:\n",
        "#in first layer:\n",
        "def Backward(X_train,y_train,W,B,Size_of_each_layer,Net,O):\n",
        "\n",
        "     Back_W={}\n",
        "     Back_B={}\n",
        "     num_of_layers=len(Size_of_each_layer)-1\n",
        "\n",
        "\n",
        "\n",
        "     for i in range(num_of_layers,0,-1):\n",
        "        if i==1: #in last layer:\n",
        "          W['w'+str(i)]=np.dot(diff_Net,X_train)\n",
        "          B['b'+str(i)]=np.sum(diff_Net)\n",
        "\n",
        "        else:\n",
        "          W['w'+str(i)]=np.dot(diff_Net, O['O'+str(i-1)].T)\n",
        "          B['b'+str(i)]=np.sum(diff_Net)\n",
        "        if i!=num_of_layers:\n",
        "           print(i)\n",
        "           print(diff_O)\n",
        "           print(diff_Net)\n",
        "           print(W['w'+str(i+1)])\n",
        "           diff_O= np.dot(W['w'+ str(i+1)].T, diff_Net)\n",
        "        else:\n",
        "           diff_O= O['O'+str(i)]- y_train\n",
        "           print(diff_O)\n",
        "           print(i)\n",
        "           diff_Net=diff_O\n",
        "           print(diff_Net)\n",
        "\n",
        "     return Back_B,Back_W"
      ],
      "metadata": {
        "id": "MeZHi15Z3bJp"
      },
      "id": "MeZHi15Z3bJp",
      "execution_count": null,
      "outputs": []
    },
    {
      "cell_type": "markdown",
      "source": [
        "# Error :"
      ],
      "metadata": {
        "id": "szVyjdO339Iu"
      },
      "id": "szVyjdO339Iu"
    },
    {
      "cell_type": "markdown",
      "source": [
        "![image.png](data:image/png;base64,iVBORw0KGgoAAAANSUhEUgAAAgYAAACqCAYAAADWfoccAAAAAXNSR0IArs4c6QAAAARnQU1BAACxjwv8YQUAAAAJcEhZcwAADsMAAA7DAcdvqGQAADnySURBVHhe7Z0H2BTV1cevUfCzC9gAa2wkih3snYhGjAZFRIkaRYXwmWAviBoDiMZEMdZgD7FiUFH4lIgYQQkaRSUo2MCCFBG7xjbf/A57J/Puu+/7bt+d3f/vee6zu7O7M3fu3HLuueecu1wQ4oQQQogUX375pVtjjTXcN998kzri3FZbbeVmzpyZ+pQ/W2yxhXvttddSn0pLhw4d3LPPPmuvTcEQuHjxYte1a1c3b9681FHnNtlkEzd58mS3/vrrux/84Aepo8vgP5988on785//7H7729+6zz//3I4vv/zybo899nB33nmna9++vR0Dfp9+jmpGgoEQQogGlEow+P77793+++/v5s6dmzrSPJ9++qlbsmRJ6tMy2rZt61ZfffXUp+ZZd9113QMPPODWWWedJgdmhsBx48a5ww47zN57evbs6W699Va32mqrpY4sK5c333zTPfPMM+7uu+92U6dOdf/5z39MINhss81cr1693EknnWTCxHLLLZf61zLSP1czEgyEEEI0oFSCAcPNnDlz3Ndff5060jxjxoxxl1xySerTMs4991zXp08fe9/SYLvCCiu4TTfd1LVq1co+Z/o993jBBRe4yy+/PHVk2cz/vPPOcxdeeKEJJuT5ueeec//4xz/cK6+84t555x331Vdf2f1w/uOPP94EC96vuOKKdg6ulSRhII4EAyGEEA0opWBAynbARFXfv3//1KdlXH311W7gwIF5DbqZ/sOSwDHHHOMefvjh1BFn2oX11lvPfs/3CAGUBYP+Siut5FZddVVbejj66KNdt27dGmgV+I8fVpO0fBAnmbkWQgiROBg0c02Z8MfTf5ue0n+TCQb+hQsXpj4tg9+ibcA2Ydddd3W9e/d2Z599trvyyivdvffe66ZNm2ZLCSw3sKzhz48g4N+TkooEAyGEEGWjGANmtufI5nefffaZpThrrrmmu+6668z2AAHghhtucMOGDXOnnHKK2UhgWIjg4AUAnzzpn5OGBAMhhBB1C8sEGBDGYdDHgHDttdc2IWHllVc2u4O4EJDkgb8lJBgIIYSoW/CUIKUTt4VIFwj88VpFgoEQQoi6Be0A2oA43333nfviiy9Sn+oPCQZCCCHqFjwMSHFYWliwYEHkXdAS3tsiPSUVCQZCCCHqFmwIsCWILw9gdzB79mzTHGRLukAgwUAIIYRIIGgLtt122wYDOTELJk2aZK6M2Qzw/jfffvutRUZMN2ZMGhIMhBCiTmFAi6f4saZI/76l35eCYl6PqIiHHHKIeR7EmTJlirvllltskPfXi98rrxgt8oo9ArENBg8e7A444ABzb0wyinwohBB1SnyQi6vSiXyIij0e+XDrrbd2L774YupT4xgBxbbUJ0/sSXDfffeljizj5z//udtzzz1Tnwq/Ltdh6eC0005zN954o53PlwvahH79+llwI/ZdAP89r8Q/YKOl0aNH274JbMa01157uZEjR7pOnTolNvKhBAMhhKhDmAmzZwGDfzwx2LHLILH/42vsG2ywgc2gCRW8yiqrWHhgrPmZcZP43Lp169SvCyd9aPICAHliwPWDsz+eL95V8YMPPnBHHHGEDfBx90XOTwREAhuxFwJeDB9//LGbNWuW+9e//uUWLVpkv2/Tpo2FSGZ/hbXWWiv6bxKRYCCEEHUEXT4CwfDhw92///1v99FHH1launSpvSIYMNCxXh6HQY4BmYGRmTQDIVoFXkmEDh4wYEAkHBRjUPSDfzngWi+88IJtozx+/PhG9w8+L37Y5HO7du1cjx49XN++fU1b4CMiJhkJBkIIUUcw6KM633fffU0wAAayfIcC/9/u3bu7v/zlL7bJUFIHRrQRbPU8YcIE222R8okvp3gY/DfeeGPb5RGBoGPHjnbfkNTlgzgSDIQQoo7wXT6v8QE838G8qSEkicJBfAkBrQq7Sc6YMcO9++67JjBgoMiSSufOnd0222wTCUG+LHmVYCCEEEKImkLuikIIIYSIkGAghBBCiAgJBkIIIYSIkGAghBBCiAgJBkIIIYSIkGAghBBCiAgJBkIIIYSIkGAghBBCiAgJBkIIIYSIkGAghBBCiAgJBkIIIYSIkGAghBBCiAgJBkIIIYSIkGAghBBCiAgJBkIIIYSIkGAghBBCiAgJBkIIIYSIkGAghBBCiAgJBkIIIYSIkGAghBBCiAgJBkIIIYSIkGAghBBCiAgJBkIIIYSIkGAghBBCiAgJBkIIIYSIkGAghBBCiAgJBkIIIYSIWC4ISb0XImvSqw2fl1tuOXvvX4UQQiQPaQxE3sSFA95LxhRCiOQjjYHIiqaqyRdffOEmTZrkZs6c6bp16+Z22mknaQyEECLBSGMgWiQuFPCe9P3337s33njD/eIXv3B9+vRxQ4YMcdOnT5dQIIQQCUeCgciJ7777zr3++utu+PDhbo899nBjx451n3/+uR2X8kkIIZKPBAPRJF474N8vWrTIXX311a53795u6NChbuHChfadEEKI2kGCgcgISwVeMPj222/dtGnTXI8ePdxZZ53lZsyY4b7++uvUL4UQQtQSEgxEk/znP/9xU6ZMcaeccoo74IAD3HPPPedWWmkl16lTJ7fxxhunfiWEEKKWkGAgMjJ37lzTDhxzzDHujjvucK1bt3ZHHnmkGzVqlLv//vvdwQcfnPqlEEKIWkKCgWgEywePPvqou+eee9zaa6/thg0b5v71r3+5O++80zwQtthiC9McCCGEqD0kGIiM4HGAYDBx4kR3xhlnuI022sj94AeqLkIIUeuopxeNIBbB1ltv7fbdd1/Xtm1bt/zyyys+gRBC1AkSDERGEAQyJSGEELWNBAMhhBBCREgwEEIIIUSEBAMhhBBCREgwEEIIIUSEBAOROHyoZp9qiXgoaiGEqATLhR2QeiCRNVQXdlI877zz3BVXXJE6uow//elP7n//939Tn0oLefjkk09sIK0lb4n/+Z//sSQvECFEpZBgIHKiGgQD8vD++++70047zS1evDh1tDYgBPUJJ5xg7yUYCCEqgQQDkRPVIhjMmzfP7b///u7NN99MHa0NKD+2tgYJBkJUF/Q9pObaZvz7pLZh2RiIRLLOOuu4vn37mtq9lqg1DYgQtQiDv8cLCz7VAtIYiJygulSDxoD04Ycf2pbQf/vb31LfZAapfdNNN3Xbb7+9hXcuJz6vX3zxhXv77bfd7NmzbTvrpiAM9eOPP27vpTEQorqgLQO2TbTl6dOnuxdffNHa9scff2z9y7rrruu22WYb1717d/fjH/+47H1OMZBgIHKC6lINgoFn4cKF7vDDD3fTpk2zxtoUG2+8sW0fvfvuu6eOlBdfbnQeEyZMcH/961/dM8884z799NPUL5bRuXNn62igUoIBeY2XsTbPErWCr9f+NVeVv/8ffd/gwYOtTbdr184SO87SB2EU/e6777pWrVrZ9vQXXHCB+9GPfuRWWGEF+z/XqnahXy1eJI54o0I6HzlypG361BzYJCC0zJw5M3Vk2YBXrsSsgY6CDoQlkLvuustdd911rlOnTg3uh6WE+KBcKejg2GqbDk6IWmPSpEnugw8+yLmt+bb61Vdf2UD/q1/9yo0ePdo98sgjds6///3v7oEHHnAjRoxwK6+8srvvvvtcr1693FNPPdXsxKXakGAgEkd6Y2aJ4MILL7SG2BT856WXXjLhAI8Gf6xSg/Caa67p+vTp42688Ua34YYbpo469/nnn9uyQ6Xw5fHCCy+4AQMGuEWLFtlnIWoJlh/PPvvsaFkv274g/rsOHTqYYNCtWze3ySabuNVXX90Ef7R+gwYNcqeffroJD3PmzHFXXXWV++ijj+x/SUCCgUgcXhXnpXdeDznkEPfb3/7WrbbaatHxTPzzn/90l19+uQ3AvpGXS5InX+laBJY2zj33XNMmwLfffmszmebuoVRQFqhGmd2ceOKJbr/99rM1UiFqBdoVqX///u7f//63TRRYjowP+NnAOVieZFt6f07aNK/++3322ceEB3juuefMg8r/ttqRYCBqAiRzGjmz3NatW6eONubrr792t956q7v++uttEIZKNlSEg1/84hc26wAG5iVLltj7SoCmgHLccsstbcZTa14fQsBWW23lLrnkElP7Dxs2zGx/coFBf+DAgab5SxcovJCx3nrrmeAAtOn58+fb+1wEkEohwUAkGi+Bk1ZccUUbzPwg2xQY/GE4NHbs2EhbUMnGyhIInRQCjRcMypUf34mRKBe0LrxiSIr9hhC1CLP7Aw44wA0ZMsRsBO6//347Hm8PzbHbbru5ww47rNlJCP2R1wR+8803ZpfQ0nmrBQkGIvF4wQDWXnttN3z4cFvnaw60BRdffLF5BlRDY8UIcYcddjDBgKWEcsL903H9/ve/N+8OllqY7VCmdKBC1CLU7ZNOOslm/5dddpl5A3mhoKk+wbcJv2yQqY3447Qpr5VEgGjOBqraUKsXNQdqQlwTMQhqDoyCWN+vpOoe6ISYXTALgXIa/PkO8P/+7//clVdeaZ1kSxoXIZKOr/cM1iw/YnOEtpHYKH5gLxTcFj/77DN7z5JC+/bt7X0SkGAgagovwRNgBPV8mzZtUt80hmWEp59+2h1//PFmMdzcTKGUkGdsDdAaoHosp2DAtTG++sMf/mD3fvTRR9u6qRC1THzg33nnnd2ee+7ppk6daksKaO2K0Q9gU7B06VJ7jxHvBhtsYO+TgAQDUTPQ2OPp0EMPdb/+9a9bjDz26KOPuksvvTSS7isF6vtVV13VBupyMn78eDM6RJhCW1AJ4UiIchLvJ/BkwgAYCDzmjQTzxU8wiIrIhMMHOmKSwvWSgAQDUbOsssoq7swzz3S//OUvU0cywwzhhhtuMAvlSkGH0bVrV3fTTTe1mN9iwr1zTQwOKSsEk6R0XkIUA+o7S2g77rijuRVOmTIl9U3+EIuE4EbYGBB87aijjjLPqaSQCMHAS2DlmMnEr1WO64nSwhri0KFDLW55upFQHAZGtnHGh9+rEsv9/NkY6uc//7nFNijl4Byv3wR6IcLhFltsYbMaCQUiG+J1KJ1Mx5v6bbXAJOLUU081g0Eikn755Zepb7LD3x8Jl2hcIImySqwDgph5Y96kUPWCQbzAy5HSrymSCY3QWw/jqYAbHoNfc2CEyKZMzBrKGb6UvKanUkPdxjgKDwQ6w549e5oBZLmuL5KP7x8RpBkMGUyZKZNwzSOqIDNm2hKpmvtU8oXWgIH82WefdU8++WTqm+zhHrnfe++917ZOX3/99a19oYmAcrbvQknEJkpeiqPylQOKhHUn/FSTZElaDigbOoJKbqKUK+SZRGPnmTIgNgWNFv9mfJsJb1qLg6Rv8hMnTnQHHXSQzZbozA488EA7LkRL0BezrwdtCi0bUQTZV4M1dfprNhRaa621LFAW3jbUrc0228wCZlVbm/L9A4N6v379rO1jn8R+JtkG+PITCSKrHnnkkWZAPGrUKDPm9ZrK5jSWVUdYIFXP/Pnzg3XWWScIO7CgVatW9GolT+HsMnjjjTdSOag/woqeMYVCQRB2CsGZZ57ZqMxCKTnjf9JTuYlf+/rrrw/atm3bKO/xtMIKKwQDBgwIli5d2uC/tQL3Es7ugkGDBtn9br311sGrr75aU/coioOv+7T7cNAPpk2bFowYMSIIZ9fWH8fbzfLLLx+0bt3aEu/j39GmunTpEgwfPjyYPn168MUXX9g5/fkrSfwew8lNEAoDQYcOHYJQ2Gk2f/47En3ipEmTbNzYdNNNg7vvvjsIBY3UL5PH8hcT5aXKQdJin3pmcriWIIWGDyOKce1BEsV4ihkQEms8IfmhKuWVYBMYgvB7zpMJ3EuIF5+txFiLpJetB1Uhu4ghHcfhGaE2wwsgfVbAufyx9O9KDdfzafPNNzfvAyyGm3r2HH/55ZftPjAI9NHLyp3vUsGzoO1cc801to88berYY4+t67oumob2QFvH/ZcgWA899JB76623TGtAXxoOhGafwi6C2MigHUBLsNFGG1lfgYYOLSPW/pMnT7a+gxn1tttuGwX9qWTbivcP9A0PP/yw5Zn8kfx3maAtcW+UCTYK9BXs9vqzn/3Mxq2m/lftVP1SAtlLzyIVlU6N4DR+dywghCvq7O22284+pz8U/sdDRGWEuot1MNbFqAQLFiywqG933nmnfX/CCSfY8gXCRL1BebPe/t5775kfLo147ty5lhhIGFToGNIDA7Hswhodhja8kugcUCniG89nOoJKNhbqAPeElfDjjz/eqG55yCN5vvbaa63DyyTsJBXumYiP2BXwLFkWwgbDC0BCAPWEtkIbYNkwvgRHXcHa/owzzjC1e1MDPEsLxAZgrZ1NhOh/gd8RnfS2226z12qx2KeP69Gjhy2NsHMi8T287U06lA9jBcHB2JSJ3RXxRIhvPJao5YM44c1VPWFn3iB5NWhY6PTqUdpqq62COXPmRL/LRHPHQ0k2CCuBnSuUjE21VI+EQlNw2WWXBe3atTO1YLyM80mo5lDfo2qrdJnynMlDKNgEe++9d6M6lJ5+9KMfBU8//bSpBflfc3UrKZB/llT8s/3rX/9akvvifJSZLzeRHHhmzz33XBDOfG0ZIN4mttxyy+CPf/xjEAqVGZ+tr0vxFAoFQTjQBqEA0eBcLGOFA2uD31aSTz/9NPjpT39qedt1112je/SQP1+nWWocOXJkEE6IglDIDmbPnt3gPip9L4WQCONDj88q4SsJSJHud070qnHjxrk11lgjdSR7OPdjjz1m2/eiTcAwa//996+ZWWIuhBXaXG1IvC8WLDWgVaikFM1z9vWIqIcsFxEauSl4/swAmPWwDOHrQ5LrBfd/3HHHub/85S/2mRjxfm+JYt4X2jg0ElwPbVE9tqUkwvP6xz/+YbNg2ka8D0BLQMyPnXbaKdIwtdSefZtjB8MRI0bYcgSfgToRCt9uzJgxtkTM50rWE+6VeB6EB0djiBaZdu/v0d8Lmmr2V0BDzfLJRRddZFssk/dK9m9FI7zJRIEU9sEHHwTbbbedSXXxdNRRRzWQ7nKB84ZChc0gV1111WDu3LmJlvgKhXsn5Vue6fhzFet8+eLzwStagNtuu62REVWmFDb+4P3337f/8N8kEwrWpl3jvtAKLV682O6p2Pc1atQom01hqFbp5y6ygzrw5JNPBqEg16D+0y8yg3777bftN74tZ/Nc+b1vN+GAGhx++OFBOIA2OH/Xrl2D9957r+L1hDzSJ/h83XPPPXbMw3uMMM855xzTfvTt2zd4/fXXg3fffTdK3EemtGjRogbnqmYSJdqE+bVXdp9jJpIOm+cUIm2iKQgfnM1u/D7a9YqX3Isl/fpzVVqa9vnwr9gaIO1joNocfpMhXwd59e+TBm5l2IoA+zNgrAuUSaHQfkis1V511VVmu+NngqJ6oS7z3MJBzoWDnps3b17qm2XQt7Le3rFjR/ucS3vmt95GBy3DhRdeaAaLcQiydcstt5TNJb0pKAfqK0aV8MQTT9hrHI5RFuQVWx00Brj9+oTxZaaEK3dStl5OpM6Dji3TjniofAvpgLwhY7yzFLUNHQDWxPgvN9fJoRYnaAm+yb5h85qERp7OrFmzLNIjEPSpmN4ItD86zN/85jfulVdesfJB7SyqHzwI2GkQj514vWYwxyMBDx3gu3z7Wf5L/8qSbby9fffdd2a45wXWSkJgIuLYAAM/ApOH+8ZzAaND0htvvGEeTNkkfpuU/iKRggGFnC5Z8sCQavOFB4ZV6a677mrSnagfsDpmXZHIZ82BtI8VNu5MdGT5do6VgPrtE7MzTyFtxhM/N50lnj3Y+tChUkZ+QIH4b0misvjnQH+KhmfSpEkNBkK8BRDyGMh5lj7lC/9F0MDyP93j69VXX7XZeCXrB/kjNLm3U8M7AYEpDt5v++23X86pS5cuLW7oVjWEhZ8Ywgpra1B9+vShxjRIBEAKJbnUL3OHc4cdf/Dxxx/bK9fhmKgPeN4vvvhitPYedhCN6phPnTt3DmbMmJGoOkI+SX6N199LKORE3+V7L/yPsiDNmjUr2HHHHaPzt2nTxiy9Pf63hVxPFA//PPC8ITCPf24+7bLLLhZgjt8UA//csejfbLPNGl2ve/fuFe1/ff7wWPJ5CgXp1Lf1Q6I0BkhzSG+oQtPZfvvto3WhfAjLwiRZAiTxWohULJIJFte33357i2Gw0VihcmV5IWmg9XjvvffsPapc1KaFQtvxr+zUyBbOQBvCohtYpvOJ2Smv/n+iMlD+JJ4TWh5ik8Rhien444+3GXSxoZ/FiywdAikRN6XSbLDBBql3rlmvpVolce6KrEGxb3x6vPvBgwe73/3udy0O6LnebjbnwxiSYDnpyxvlhgENlRUdvgSb3PD1AgNUjKAInoV7VVNQvsccc4wZIbFJkz9Wrfj7o9Ml0iHGZahLn3/+ebfJJpvYd7nmP5xZmb3P7NmzzeWRmPlEtYurXlmr/eEPf5j69F8wPmPve0VbrCw8QwY+XIkxFI2DoPzII49Eg2Qx6ne8/8XtkSBC6UyYMMGi3HK9crcpn7/zzz/fXCuBVwwy64qwIBIDKp4nnngio5oXlWg26i7O8cwzzwTDhg0Lnn322ShwTb5wvlDKtaWMlVZaqaLpwAMPtJjd5EnkB2XHctJ5553XKN57eqLML774Yov7Xu1lTv5I7P+x1lprWf5xJcQFMx84F26OBIOh7qcHwWkp9erVq+rLrB6gv+jfv3/GPvWSSy4p2hJCOjz7xx57rNE1SVdccUVUX8sN1+SeyYMvk4EDB6a+rR8StZQQ5tfUuLzGwYMgW5cojKNwl2GLCFyqiiGRhpUpCq9cyYR6VhQOs9whQ4a43r17NxmqlXrDMycu+qOPPtqoTlYrhLilDUAo2BQ0Y+eemWmefPLJNqNK9z7g3AQiu+CCCyxRpv49SzGi8qDxufvuuxvVX0IcE/wrG3fEfKD9NOUSnq65KDfkjeBG/t6rYWmj3CRKMKBDw3I1HdZJW4p2SMUnvfTSS7bffps2bWztjEpQqHBABcIuoRpSofcilsGgxv4Be++9d8Yy9fWJgRaVKEJCEsBNEUEWuMdC9gJhDwy8NHBlY7DHWjsO7QuLdsqR35BY7uMVDxDV1cpC/cULgP0M0sE3nz1PSgn9VSZoS+StkuCh5gUDXOO/++67iuepnCTKxoBO7YgjjrDQxXFYjyJkLZqDpjobbpOHy2YgzFzYG/xvf/ubheMsBM7L4IC/q5+JVQo6atwtKQN1uoVDfcEY6vDDD29yFkPAlzvuuMMGulLNroqBb+YEamK/eHyx2TkOIbnQDWw4N3Y27KhHgBwPO23im07AMFCdrC7QMhJ0B5uaOLjU0Z+yQ2ApnxkhyXfffffUp/8yaNAg98c//tHel7vO+HaCbQVjDVpY+lRsyNCw8X1d1OPwRhPDvHnzgrAz48k1SMcdd5ytlRIqOZTuMia+I3RlKETYf8IKaWukheLXpEiVWBPzVEs+agnKERuUBx98MFqXjydCZ7OZTNh5WLlXM9wLacyYMdFGNoShLUa+Oe/MmTODNdZYo0H5YH/w4Ycfqk5WKbgh0g/GnxmJcMhsCFTKOu3rYvq1SdjtVKq+cF3SxIkTbfM38kM7IQxyPdXhRC0lsNaTSe3Fhh9sCoOV+NFHH50x8R1rZszsAQt+1pEKBemRmSKpkpJkrvkIn72plHkVTUNZhgOceSngYuWhnFk//+Uvf2lusnxOAnhd+GfelCo3H9hSl3PHwZrdb8ebFCgbnyoJ16d9koqNvz+0YN51NQ4upuUICd+UG6B3oa3kM4hvtRwKSFG7qWSeykmiBINQwm3kpgj437K8gBFYc+nJJ59sEAo2MVGoSkQlBZmk4AUubFLinTTRMdljPp+dPCuBf9bxe8hWiGwJzokhb1ww4Ly4KRa6TFEJqmEAiF+/VHlBMPjwww9Tn/4L7qsIwaXsH6gz7N6aCZZ5K4W/53jbIK+kUpZHtZEYGwMezI033mjGTPEOCMkOO4H4bK4pkI59EA8CerCBTj097Dg8dsKfEnuhGsqA2WUxwvMWE8qIeoedAevyfnZFMK277ror2oY5KXWI+yF2AF4ErC9jWInxWaH5Zx32vPPOMw8Nygs4J+vUhx56aHT+JJQTZUSbIL5Dc3EsSg35YOJCECCMRItZdpybxLbbaFGZEXsQ5DAWxcvEa8GKfW1g63xsUNK1BvTjhCEuZuyEXPD5Y7vlbt26WUwObHGwzcG4Ngl1uCiEBVH1hJ2NrXedddZZPLUGifWwsBHbGlBL6dJLL7XtQ/kf4W/rGcoU//P08qxUOuWUU1I5qyy+rvlEONRQ8IzyufrqqwePPPJIFP+C3ycB8kkaPXq0xV/gXvbaay+7h0Ih7kM8zDKJdhZ28NF1kwJ5ZXvc3XbbrcH9VCJhC/LOO+8Uvfz8M7nssssaXZN19VtvvbVkz4zzUueoG9jopF8fGzJC2/s8lht/3alTp0a2OOFEIFiwYEFF8lMpErGUEObTUqY1qXbt2pnqC5Vucwn3E79jIuue6dt+CuHxswIs7Yl34V1kmU1de+21rnv37tFvkjaD8LNACDvoouSf2V/6WjWuinF3N9pvEvD5rIb88mx8Kib+fNTvdNBS0KcW+5oeX65s5JUpUuwOO+zQ4hbo5YC24fNKWfh2k5R6XCiJWEogi6g+CeWavi7Vp08fF0q4Lfpjc47rrrvOliJ22WUXU6EW0/gqaVAehx12mLlaVgO4RrHDYaXxzYH6hr89O86hKkeYZHvmYcOGRZ0mr6XqQIuNv68xY8ZY/HtUpLQnXMbiwkI+sHcJBprxPfxRw7ILpd+/JEnlRNngglrJLYDJB2VHnAgmNsXE1wVcFekT4xDc66GHHmpxp9F84drEKaCtX3/99VFegD78z3/+s+vbt2+DNlZOfH6wR6NO0w8QuAsbNeyMICl1uRASIxgsXrzYjFK88aDHB1dp7mHxfxI2Cr/+9a+tQRDjvtAOMelQpt+n1oQrDbMEtDqVhnqCDQuaAeJdMBuGnj17umuuuSZaZ0xa5+CbOf7ZCNPEMcBW4tlnny3YCNd3ovE9EvDiGD58eF10oknD14VMggFtcPz48RnjCxQDrk20RWIETJ8+PXV0GWh+iS2z3XbbpY6UH/JHwpidIE8IMUwkJ06cGGmc66FOJ2YpAXVuulAAdG7ZPigCVbAhBq6N4BtIvcLmPwx01ZCqQSgABCU6BTQDCAXULQRS6g35THqngADm7wEBCJVpobzxxhsNhALOX6qBRRSO7/cyqez5rpSB2ji/33QrHYz8Ntpoo9SnykH9RVPgJ01olguJEJpEEjNlnjJlSurdf0G9yx4JLcGDJlHxTj/9dNud0R+LQ6XNR1igElHZX3nllYomVJ/55F/899kjgKKF8m5ceB6wVIVNCvUl6eWLqthrCFgiIeWLLzMs+ONwjUIjimbCXy+eRO74fi9TyGMGQyZgpSpfzomWIr3eYb9z0EEHWd3Jl0x5zuce+A8aNS8Y4CmRRLfbQqj6pQSyx6wGtQ5rlnEQCnArKUagIiqB7/hzWWLg9+w/z7oYlamSEJIWFyQqcbrQI5qH5//RRx+ZihPVOJ9ZUyQ0K8+WwTTJZeqb+WuvvWb1ZMmSJeYShhGY3zY6Fzgfidkl9gRsuewhRgihlovtC88z4Zrxc/JedT03fF0gXDVBuuJGgMyMWUYjcBcUo3x9XQEmeBjvpu8tQswLAtV16NAh7+vF+/A4ufbnQBlgj8Y5jz32WHf77bfb8bohLIiqJnwwtq3tuuuuyxNrkHr06FEUdyuusXDhQgsDSuhkPmcLv2UbZ9zY0vNX7rTffvtp2+U8wZ21X79+UVm2atUqOPPMMyvqOlVsuAdCh4edr91ju3btLMx4PnAu2h4hj9PDRRN2nO+KWWb+eqSlS5daW8WVD7dRkRuUJSmcVAXrr79+g2cXCsDB+eefX9Qw3/7Z4db6k5/8pMH1SK1btw5uuummguvMp59+avXi7bffDr755puovuSCL5vf/e53Uf5wk683qn4pAQmQCF2Ztr4kQEYh0mx4/5ZYCsCAEQOqCRMmpL4VtY5//mHn4W677TZ3zz332HG0AxjoYUDHclUtwH0CwXKwlQBsKEi+HHKFtsfyFdqHONlugZ4PPCtcSNFS9OrVyzSG+ea/3tlwww0buW1TvgQYwmakmM+Q54O3A8HC4nCNUFjIO9icf/bhYG7GwpwLbyu0D5DvPRBl11MNdg/lJhFeCUSdYv0pDgYhRC9k57t8Hz6VCTCE4TysK2MVG8687Xg2UHzsKMd2sggYlYTIgTQOVGfFbNS1in/+qNPpUHyku7322ssiBKLWrBXPFd/MURuzXOKX5VgCiBsK5lJvKD/c+rzaGWiXv//97821k3MVsx5yvffff99shRBGODcR+mh7PKdaeVblgmUgohxiaBsfBtirAPc87ESK8fw4N8+LiRdeMHEQUkePHm2CXj5wbhKTR7wa/LLISSedZMsBuS6r+vMhXIwbN86O4clD3uuKsBCqmrAzCK666ipqbYOE+jKUPgtSPfFfVJFXXnllsOKKKwY//OEPg7lz56a+zQ7O4VVWJD5XQxItw7MnsqFXrZPC2UHwxBNPRM+yVojXjUGDBkX3e8stt0THc4HfU35nnHFGdC7SGmusEdx///0lKT/Oh7p4p512MpU3kfNGjRpVc8+qnLArJktK8WdICgUGe77FKFeWfk488cQo6qxP4aAdDB48OAgnVKlf5g754/lzjs6dO9s16Mv/8Ic/WP75Lhf8+TiXz+ecOXNS39YPVS9ih3k0i/90QsEgUokWAtaxSIa8YjRFxLZc8LMiEjOW+OdKJpEZ6hMp7ADcO++8Y8sFXm2Iy+QVV1xh8en9s6wV4nWjS5cuqaPOAob5MiHlAmWYKdY91u6lKDvOiS85M0E8R2644QbTfvj7ErnDss+FF14YBXvz5finP/3JvfTSS/ae55xN3fDtytcl3qOFw9UXzRKfPX657rTTTivIFdA/e5bIMBAkdgbxak444YS82zB59lEhMWz3+zbUFeEDrGqYIWBkSFbjqVu3bsHixYsLkmj5LzNGJFfOicFJIecT1Q+zARLGSQMHDoxmMRgbopmqh+f/8ssvm8EX933wwQdHhlq58tVXX1lse98mSZtvvnkQDihWjqUqS87rZ7P18LxKCc8dQ8NDDz00CAfRBs+S/SLoY32baams/fPwv+W8w4YNs/0X4uelzdGnY9ibzXmzJX7tfOG/s2bNClZbbTXL69577211rd6oeo0BIXvTDQ+RApHiCo2pTYAXZh7hgzepld3mwjJJfStqFVyl2Anw5ptvtlkM9QmXRFy36gHWkDfeeGN7jzbOB3LKte7ze9pOHMoz7JxTn0oHs0FRHNAWoDXo2rVr6sgycDll10zW77OFOkEdIB4I4ZyxX4i7JhLmGS3PlVdeWRLD3nw0BOm8+eabUcTTPfbYoy7rWlXdMZUqPWEQmC4YoIbCUpRKxm/S8f+N44/5xNIBhjAYNgJLCJ07dy5KxRLVBc+bzsoPWmPHjnVDhw6NOiy8W+gYixEPo5j4fPNaTFgyoa7D3LlzTfjO9Rr8nrbStm3b1JFlEGb75Zdfjs7HK4kYH+ylkM91KAP6ADwgWP7xibgTojC8uh2DzquvvrqBpxeGfMRFwY9/6tSpNpHyz9Mn365IgDcDxoQI2QQyikfEJC4I3l8sUxC3gOv46+eLrxfxulFovWB5jfshb0wW65Gq8kqg02YGQqJSMngTo3rAgAGRBAcIBmy6wyYwTVUqX2mpzJwHjwHO8cknn5iFLJ0hlWjhwoX2+0MOOcQ9+OCD9r6QiiqqD99pAR4odFq4ZPGccdeijuG6BRyrhufvO14odp44L5tDnXXWWdbmsEDHKwOyvQ7n4L909Jdddlnq6DLQ5rFJDloJoughKEyaNMmEfGahuQhg/tn96le/so3PaL+0aeDaBKGphudVC/BM2SWT/WSoE35Qp3x5ZrgUHnPMMTaos6aPxT/Ph/6aPhUXwVGjRpmXT1xrxG+xZUA7e+CBB5qGgmsVYyaOLQEbgWEX4OsFnhYDBw6097nCOdhkDI+3jh07mtcO9bju6lj4gKqCsIKZl8E555wT9OnTJ9hzzz2DsNMOwgpJ71jShIXz8OHDLQ8kUVuEnZQlgvkQYCXskOy5443gLejjqRrAkjvsaIO33nqr6Hmijj/++ONRYKIrrrgiZwt031ZeeeUV8+aJtydS2JGa7Q6vfF5nnXWCcHAPwhle6gzZwTW4f/73wgsvBPvuu290jXDwyinPonl8WRPs7frrrw/22GOPYOWVV47Km0Qgt06dOtlzwD6FYFY77rhj0L59e7PTif+Wdfr9998/GDlypAWj8u2LVKznRr2YMWOGXYdrkodQ0E99mzsLFiwIdt11VztXKMRYAK96rGNVIxiEklpw0UUXRUZR5UyrrLJKMGHCBKsA9dzR+I7Bl0M8ZToeP+YbvE8cqxbICw38yCOPjIQCBqwRI0ZYVM1qyq8vz3HjxgUbbrihuQPSNooJ50fg6NKli5XFsccem7fLGOcaP368CfHxNuXLGNexnj17BpMnTzZDYso6X4jquf3229u5EToYwKrludUSlCl1bv78+cG9995rholt2rRp9HwzJZ45BqinnnpqMGnSJBtoeW6lgvrE+XfeeWe7PoIL18yX559/3lyW6Sd8BMh6rGNVs5RANlgb8vsNhBXMXkuJv3VUWrg/ouLiuuW4djVCefgyYSkHNTCqW54LW6Wy7MISDEsz/A4VISpGjNlQu7Vr184Sx6FayhJbAvY8IBAO73nOrJtigBjfbbAa8kq5UvahkGyuk6hFww6qqHnjGiyt4SrG/vfsnRAOAPYM8yHsnG2HRSJHzpo1y9Sx1Isf//jHLpzJWaAc1M6efFXIqLl32GEHW1fGtRh3OuyMquG51RK+D/CvPF8CS7EMx74wPAdU9/QDlD8uqriOsyzH8yHQEJshxdtVqZ4ReSQ/++yzj9XBrbfe2qJh+i2Sc4Fz0Q5OPvlkyy/2FQQ24n2+dTaxhIVRNSCZ+VQO4teLp3qFe0cCv+OOO4KwcZjaPezUbbbAzI9Zmp9xk8IGY8dwRyJISteuXe1/Y8eObbDHQCXLlGuzXLDeeutZfsk/MyBmFf5+K53HOOQjFMKiGRB5L3be/H0zG6Q8WFJ5+umn8y4H/z+WI0LBy7QPzLS4Rrx8/ft8IbY/9Y1yOeyww3Je/hDZ4Z9XPPlnSWKGznP2ic/+2cZffSolXIt6wVIV9YK2nav2y98jWpJzzz3XlpZDASMIBY7ou3qjqsQgJDOfykH8evFUr/h7v+mmm8yICKM8tnP2WgKMjMJGYjMELNv5PceYhWN8NH36dPsfRkokJPmwjkUzj3Lir8ss58QTTzRtB5+Z1TAb9zsKMhOotueOwRMGXMzGSmH4RDlwTkJ/Y3SJO5r3JPApF3z5YRSM2y8aI/JO2cbL17/PF4IpUd+ArdM5nyg+/nnFk3+WJDRuPGef+OyfbfzVp1KDR4Lf22GzzTbLe4tkNF14X4TCjIVE9oG6SPWGWpZoBIO/HxwYQLFYJ6IYluVEBGNpAQtzlhpQLWKVjg80HQT/Q4ggFv/BBx9sVui5DjTFAtVi//79Lb/kAZdU4vjjmlWNkEfcB3GdZABkWaZ9+/ZFLz/f0eE+NmjQIOu8H3jgAesQq7UTpE76CKgIIOwLUql6JaoH6gBusExOqBd4TOQrjOCmiIDMsgieCeUQaqqWsGCFiED1hzUyVSMc6E2V7S1z4wn8K//B4n/AgAGNjEdRyWE1nP7fUuGvgYoTozrugXwQw5+4+qgLy5WX5ojnwaclS5aYR44vu+22264kxk/xa4ZCk8WFx/qcuPk8S1K1wdJU3759rVzatm0bPPXUU5bPYpeNSBYsG2DoGA7i1sYffPDBnOsEv2dZCq8ZznP22WcX3eA3aUhjIJoE6RvjMWaWXqXmE8RfMUDESG6XXXaxYx6M0YhdjrFbqQnrs6VwwDDNAMZDzLxRLbIDID7YzCrS76PSkGfUmAR+CQWx1FFnRntoYYpN/P4xEmN2RDkRjY68VCPEICHuCKDFwli4Wp6fqBxoJ9GyhYO71WU0bPnw1ltv2Y6qBM5jD4e61haESDAQTYKFMfYE2UAnTaM88sgjG3TYNNjHHnvM1H3lAIt+BAI8EPwgx1JIoZu1lAqEGDolgvUgzJB/T7mWPHr06GGREAnw5QM/VRvYuRBVEVD1hrNDey/qGwQD37dg94RdQK7Q5hAKWBrt2bOn23zzzVPf1C8SDESEn3H7AZVwoNkMEv43SNnsq54+AGMcRPjpUsxG0/OMAST2EH6A3X777d0111xj0fjIZ7kHvXj+4gnoiO666y7bp4HZejy6J8Z7voMqZZ45N5ohIgvigkZ+KLv0vFYKnweEAgxcAQGUQQDK/TxFdYE7NUbOQHjubHfcjddvBHNsbDD07devXwMX5npFgoFoBLMxBlIG1WyhIZGwCk6Pn4+aHCPEUjU238CxrmfTF4wOAZUzhnzcD8aSJAaXcicMNkl4RtAJTZ482fZqYHtnljjwu/bW9h42mMEfHLi3UoJAh3BCmPExY8a41157LSrTUl87WxAuEaSoQ5QLwme9d97Cuddffz0SqNPjZbQEdRuNJst3LEew4ROhm2kP9V63qmqvBFFZ/ECAOhkrXwLUID3nst7G/9mRjPjlcfBQGDdunL0vdqPjmgRgOfXUU03yp7EDs0oElVKs0+cKSwa4VPmAUXRmzTU91jopQ79mWmqhCghi1bt3b9Mg3HDDDVGQmEqut/q8XXrppW7IkCFWDuQNF1QJBoIgYOecc461+Wuvvdb21YGW6gb1iv+gYWTvFNwT0TTSV6hehYQFJIQRNpSMKRf4fffu3enNGyT2Nc/nfJnw5/EJi3X22PAeCLWQiNe+ZMmS6B5LRbwcsfInNHjHjh2DoUOHRh4clcTny3skEODoiSeeSH0r6pF4nQ0F2ajNTJ06NTreFP47XvGkwmuKPRHYy6Gl/9YTWkoQEUjKmVKuYBCUDpqHsL6lPhWOP1fYkM1ojsBKLFnUCoQnxs6g1KQ/a7xQmJnffvvtpmJNX+KoBGhb2N8fKBO0QELQ3mfMmGHvqRfEtsgG+g6W9lhmREOA1qFDhw6pbwVIMBBFh3X1dGh4+QgZTcG5EApYr8euAPuBWgHVPYJBuZdA6DBx58Tu4eyzz7Z9FMrlTdIc7I3AMgcQuVIeCQIwOqRuQKdOnVrcHyE+MUHw5b+jR4822wQo5sQl6UgwEEWFGeb8+fNTn5bBII69QjGhEWN4xL7rGKbVEl4wyDe0a754rQECyXHHHWf78vs9+SsJA4B3VWSTHAwzhcCQF3sdwLUaoTYb6DuIeYBNAkKBr/cksQwJBqKoMLNLH0xohDTcYoKF+iWXXGIW9LUGalE0LPFgTOUgfi2ufcghh9hAXGn++c9/2nIC7LvvvurAhQ3u7K7pZ/m77767vWbTXvj+pJNOMgNftI7+WDb/rRckGIiiQAMlselSuo0BW+QWO2gIyxVTpkyJGnYtwSZE+UZwKxa+gyxnR+nrUDyhgfIeLniZ4OIp6gfqgH/174F6gWAA1Isdd9zR3jdHvE5Xon4nCbkrioLxVYhBmlk8ycPMk6iD+AgX05gOmwLWB3H/q6XGTVkSbZKwrNkGa6kFuG/SZ599ZksZPk4BRmLMBtEM7bXXXu7vf/+71alKulCK8uHrBRpC+g+EZiAmyOGHH25CI+7RGMoSt0QDfXGQYCAKxlchjHmOPfZYC4HsYUfDsWPHut122y11pHB8Z+GppUEirgGpp8HPP092e0QQOOKII+zz+PHjXa9evawsLr/8cvNTp/PXAFD7+DrBMhKROelDsH3hODu9En+ACcLFF1/szjjjDMUgKCISu0VRoLESGIltmD00UgSFnXbaKXWkePjBoRY7gnrt3KhDjzzyiG28hYCEoHnLLbfY0tTOO+9sezrUa9nUIzxr6gTP//HHH7e+hSUEtEq33XabGaTionjUUUeV3VC31pHGQBQMVQifYqLRsRkJn2nUXbp0sQaNG5E6dNEcCAJ09NijsIzQtWtXM2QlvDX2KTfddJOF6FY9qh/oR0jUA2+8jC0BAiMeSdQVBEc2AAPqhupHcZBgIAqGTv3ee+81S1+keSCe/c033+z22Wcfa9xaExbNQR3BXuTOO+90c+bMMTc0BEq8Ig466CDbu0N1qL7wQxN1gf5l9uzZ9p5gaWgKDjzwQNv4CCQUFBcJBiJvfNWZOXOmxRp/88037TMQz/6EE04wFR+/U6cumsPXJYRM1MW8UmeoP77uqOOvP6gHPHfsDEiZ6oVH9aN4SDAQeUMjRf37m9/8xt133332GYv6s846y5177rlF9UIQQghRHjSNE3lDICPcEB966CETCghkhFDAbmcyBhJCiGQiwUDkBAomEpbCgwcPtrCiX375pX3HtsfE2EdTILWeEEIkEy0liJxAM/D555/bjmQkhIK11lrLnX766eaD7gPTCCGESCYSDERO4HXAdqW4jxGNjABGQ4cOdX379o2EAgkGQgiRXCQYiBZBS8Bg//HHH5v9ANvx8pkQpNddd515JBCm1lelWhcM4k3Gl41PQgiRdCQYiBZh8COoyJAhQ2x/gq+//tqiGQ4fPtziFCAU1BOUB82GTVwI4MSeBoceeqht5iKEEElHgoFoFqoHUcb69+/vnnrqKfMxJ2b5NddcY8Fn8CWut9kyZYL2hJ3+CLrCxi6XXnqpxXOX1kAIkXTklSCahIAiL7/8skU0ZNMShAA2t8E9cdtttzVNQT2q0BEM2PXv1VdftVDQ2FpQTpSXEEIkHQkGIiNoBiZPnuxOPvlk0xQQl2DgwIFu5MiRbs0117TBsR6FAk/Hjh1tb4gOHTqYkMQOgPW2pCKEqE20lCAawRr6ww8/bILAe++9Z6ryESNGWIjjlVdeOfWrUKpMC0laL9BkSLhtUj7YFuCdoaBOQohaQIKBiKAqoBpnqeDMM8908+bNc+3bt3cXXXSR69evXyMNQS7aAm+9D0nUMjTXTPx39SooCSFqCwkGIoJgRbgiYki3cOFC293u/PPPdwcffLDtaAb5DupUM2bWWPAnVTAgpQs3CDzA5yTelxBCpCPBQERMmzbN9ezZ073//vupI861atXKXotRTTBiJIRykgWDiRMnuqVLl6aOLoMtYEnSGAghagH1ZKIB6QIASwskjBELTfHlhKTy/PPPuwceeMD2hDj66KMt4iPHpC0QQtQKEgyEyAEiP958881um222sc8st2y55ZZF0agIIUQ1IMFANADL+lKlWlC1oxlA+7FgwQITBtq0aePWX3/91LdCCJF8ZGMgIubPn29qctzwSgGz7J/85CeJFxCIdtijRw+LCEn0w7Fjx7q2bdtqOUEIURNIMBARVAVfHYo9yMXPm/QBlMBPvXv3dosXLzY7gxtvvNHiO0gwEELUAlpKEBF+0C7FAFeq85YTLzihWSEMMpqPjTbaKPLcEEKIWkCCgWhAXDgoVUoyCAbvvPOO++qrr0wg2HDDDc1+QgghagUJBkJkgV8KYaMkbAv4vOKKK5rGIOnCjhBCxJFgIEQOeMEAcFXcYIMN7L0QQtQKEgyEyAEEg9dee83e44nAXhK1sEQihBAeCQZC5MCiRYsshgEQv4A4BkIIUUtIMBAiS7ArYD8Jv3FS165d7VUIIWoJCQZCZIFfKkAwQEDAVXGHHXawY0IIUTs49/+wM+m76i8TcQAAAABJRU5ErkJggg==)"
      ],
      "metadata": {
        "id": "PweOMGFr3rhr"
      },
      "id": "PweOMGFr3rhr"
    },
    {
      "cell_type": "code",
      "source": [],
      "metadata": {
        "id": "GY5ucmD33lAb"
      },
      "id": "GY5ucmD33lAb",
      "execution_count": null,
      "outputs": []
    },
    {
      "cell_type": "code",
      "source": [
        "#generate new W and B:\n",
        "def generate_W_b_new(Size_of_each_layer,MEU,Back_B,Back_W):\n",
        "    print(\"layers\",Size_of_each_layer)\n",
        "    W_new = {}\n",
        "    B_new={}\n",
        "    num_of_layers=len(Size_of_each_layer)-1\n",
        "    for i in range(1, len(Size_of_each_layer)):\n",
        "      rows=Size_of_each_layer[i]\n",
        "      W_new['w'+str(i)] = W['w'+ str(i+1)]-MEU*Back_W['w' + str(i)]\n",
        "      B_new['b'+str(i)] = B['b'+ str(i+1)]-MEU*Back_B['b' + str(i)]\n",
        "    return W_new,B_new"
      ],
      "metadata": {
        "id": "czAJJT3W3a3B"
      },
      "id": "czAJJT3W3a3B",
      "execution_count": null,
      "outputs": []
    },
    {
      "cell_type": "code",
      "source": [],
      "metadata": {
        "id": "7b8NVuFPKrYa"
      },
      "id": "7b8NVuFPKrYa",
      "execution_count": null,
      "outputs": []
    },
    {
      "cell_type": "code",
      "source": [
        "\n"
      ],
      "metadata": {
        "colab": {
          "base_uri": "https://localhost:8080/"
        },
        "id": "OgrRafn6LMwV",
        "outputId": "c1185539-29e6-4960-a7ad-316e9fdd4d98"
      },
      "id": "OgrRafn6LMwV",
      "execution_count": null,
      "outputs": [
        {
          "output_type": "stream",
          "name": "stdout",
          "text": [
            "Shape of y_train (120,)\n",
            "Shape of y_test (30,)\n"
          ]
        }
      ]
    },
    {
      "cell_type": "code",
      "source": [
        "def NN(X_train, y_train,num_of_layers,Maximum_number_of_iterations,Meu):\n",
        "  W,B=generate_W_b(Size_of_each_layer);\n",
        "  for i in range(Maximum_number_of_iterations):\n",
        "    Net,O=Forward(X_train,W,B,Size_of_each_layer);\n",
        "    error=100-cost(y_train.T,O)\n",
        "    Back_B,Back_W=Backward(X_train,y_train,W,B,Size_of_each_layer,Net,O)\n",
        "    W,B=generate_W_b_new(Size_of_each_layer,MEU,Back_B,Back_W)\n",
        "    Net_train,O_train=Forward(X_train.T,W,B,Size_of_each_layer)\n",
        "    Net_test,O_test=Forward(X_test.T,W,B,Size_of_each_layer)\n",
        "    print('error in'+str(i+1)+' = '+ 100-str(error))\n",
        "    train=np.sqrt(mean_squared_error(y_train,O_train['O'+ str(num_of_layers)].T))\n",
        "    test=np.sqrt(mean_squared_error(y_test,O_test['O' + str(num_of_layers)].T))\n",
        "  print(\"Accuracy of train\",100-train)\n",
        "  print(\"Accuracy of test\",100-test)"
      ],
      "metadata": {
        "id": "_htm04Uutbvj"
      },
      "id": "_htm04Uutbvj",
      "execution_count": null,
      "outputs": []
    },
    {
      "cell_type": "markdown",
      "id": "b2d01c92",
      "metadata": {
        "id": "b2d01c92"
      },
      "source": [
        "## Test your model on IRIS  dataset and MNIST Dataset"
      ]
    },
    {
      "cell_type": "code",
      "source": [
        "#load and read data:\n",
        "#######################  IRIS:\n",
        "Meu=0.5;\n",
        "Maximum_number_of_iterations=50;\n",
        "Size_of_each_layer=[120, 5, 5, 1]\n",
        "num_of_layers=len(Size_of_each_layer)-1;\n",
        "#NN(X_train, y_train,num_of_layers,Maximum_number_of_iterations,Meu)"
      ],
      "metadata": {
        "id": "IrxzVOW8VeGs"
      },
      "id": "IrxzVOW8VeGs",
      "execution_count": null,
      "outputs": []
    },
    {
      "cell_type": "code",
      "execution_count": null,
      "id": "b47c1af9",
      "metadata": {
        "id": "b47c1af9"
      },
      "outputs": [],
      "source": [
        "#######################  MINIST:\n",
        "from sklearn.datasets import fetch_openml\n",
        "mnist = fetch_openml('mnist_784')\n",
        "x = mnist.data\n",
        "y = mnist.target\n",
        "x_train,x_test,Y_train,Y_test = train_test_split(x, y, test_size = 0.2)\n",
        "NN(x_train, Y_train,num_of_layers,Maximum_number_of_iterations,Meu)\n",
        "\n",
        "\n"
      ]
    },
    {
      "cell_type": "code",
      "execution_count": null,
      "id": "61b11360",
      "metadata": {
        "id": "61b11360"
      },
      "outputs": [],
      "source": [
        "from sklearn.datasets import load_iris\n",
        "from sklearn.preprocessing import normalize\n",
        "from keras.utils import np_utils\n",
        "data=load_iris()\n",
        "X,Y = data[\"data\"], data[\"target\"]\n",
        "X_train,X_test,y_train,y_test = train_test_split(X, Y, test_size = 0.2)\n",
        "#y_train=np_utils.to_categorical(y_train,num_classes=3)\n",
        "#y_test=np_utils.to_categorical(y_test,num_classes=3)\n",
        "print(\"Shape of y_train\",y_train.shape)\n",
        "print(\"Shape of y_test\",y_test.shape)"
      ]
    },
    {
      "cell_type": "code",
      "execution_count": null,
      "id": "cee362c0",
      "metadata": {
        "id": "cee362c0"
      },
      "outputs": [],
      "source": []
    },
    {
      "cell_type": "markdown",
      "id": "ff0e3351",
      "metadata": {
        "id": "ff0e3351"
      },
      "source": [
        "## Refrence\n",
        "https://becominghuman.ai/understanding-neural-networks-2-the-math-of-neural-networks-in-3-equations-6085fd3f09df\n",
        "https://towardsdatascience.com/how-to-define-a-neural-network-as-a-mathematical-function-f7b820cde3f\n"
      ]
    },
    {
      "cell_type": "code",
      "execution_count": null,
      "id": "bd4fece0",
      "metadata": {
        "id": "bd4fece0"
      },
      "outputs": [],
      "source": []
    }
  ],
  "metadata": {
    "kernelspec": {
      "display_name": "Python 3 (ipykernel)",
      "language": "python",
      "name": "python3"
    },
    "language_info": {
      "codemirror_mode": {
        "name": "ipython",
        "version": 3
      },
      "file_extension": ".py",
      "mimetype": "text/x-python",
      "name": "python",
      "nbconvert_exporter": "python",
      "pygments_lexer": "ipython3",
      "version": "3.8.12"
    },
    "colab": {
      "provenance": []
    }
  },
  "nbformat": 4,
  "nbformat_minor": 5
}